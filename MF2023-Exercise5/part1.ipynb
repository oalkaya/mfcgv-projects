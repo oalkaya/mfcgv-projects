{
 "cells": [
  {
   "attachments": {},
   "cell_type": "markdown",
   "metadata": {},
   "source": [
    "## Part 1:"
   ]
  },
  {
   "attachments": {},
   "cell_type": "markdown",
   "metadata": {},
   "source": [
    "### Task 1: Thinking about fundamental properties.\n",
    "\n",
    "#### Question 1: What is the advantage of representing rigid transformations with dual quaternions for blending?\n",
    "\n",
    "There are two major advantages to representing rigid transformations with dual quaternions for blending:\n",
    "\n",
    "Linearity: Dual quaternions provide a linear representation of rigid transformations, which makes it easier to blend multiple transformations together in a smooth and continuous way.\n",
    "\n",
    "Consistency: Dual quaternions provide a consistent way to represent both rotations and translations as a single entity, which avoids issues with interpolation between separate rotation and translation representations."
   ]
  },
  {
   "attachments": {},
   "cell_type": "markdown",
   "metadata": {},
   "source": [
    "#### Question 2: Briefly explain one fundamental disadvantage of using quaternion based shortest path blending for rotations as compared to linear blend skinning (i.e. averaging rotation matrices)? Hint: think about the continuity of both blending methods for 2D rotations.\n",
    "\n"
   ]
  }
 ],
 "metadata": {
  "language_info": {
   "name": "python"
  },
  "orig_nbformat": 4
 },
 "nbformat": 4,
 "nbformat_minor": 2
}
