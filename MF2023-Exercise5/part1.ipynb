{
 "cells": [
  {
   "attachments": {},
   "cell_type": "markdown",
   "metadata": {},
   "source": [
    "## Part 1:"
   ]
  },
  {
   "attachments": {},
   "cell_type": "markdown",
   "metadata": {},
   "source": [
    "### Task 1: Thinking about fundamental properties.\n",
    "\n",
    "#### Question 1: What is the advantage of representing rigid transformations with dual quaternions for blending?\n",
    "\n",
    "There are two major advantages to representing rigid transformations with dual quaternions for blending:\n",
    "\n",
    "Linearity: Dual quaternions provide a linear representation of rigid transformations, which makes it easier to blend multiple transformations together in a smooth and continuous way.\n",
    "\n",
    "Consistency: Dual quaternions provide a consistent way to represent both rotations and translations as a single entity, which avoids issues with interpolation between separate rotation and translation representations."
   ]
  },
  {
   "attachments": {},
   "cell_type": "markdown",
   "metadata": {},
   "source": [
    "#### Question 2: Briefly explain one fundamental disadvantage of using quaternion based shortest path blending for rotations as compared to linear blend skinning (i.e. averaging rotation matrices)? Hint: think about the continuity of both blending methods for 2D rotations.\n",
    "\n",
    "When using linear blend skinning, blending rotations can be achieved by averaging the rotation matrices, which ensures a smooth and continuous transition between different rotations. For example while going from 0 degrees to 90 degrees rotation, the rotations at intermediate angles (such as 45 degrees) will be well defined.\n",
    "\n",
    "In contrast, when using quaternion-based shortest path blending, there can be a discontinuity at certain points during the blending process. In the case of 2D rotations, quaternion-based blending can result in unexpected flips or sudden changes in the rotation angle. This discontinuity can lead to visual artifacts or unrealistic animations.\n",
    "\n",
    "Linear blend skinning, on the other hand, does not suffer from this issue of discontinuity in 2D rotations because averaging rotation matrices guarantees a smooth transition between different rotation angles.\n",
    "\n"
   ]
  },
  {
   "attachments": {},
   "cell_type": "markdown",
   "metadata": {},
   "source": [
    "### Task 2: Derivations and deeper understanding.\n",
    "\n",
    "#### Question 3: Utilizing the properties above, for a dual quaternion $\\bold{\\hat{p}} = \\cos({\\bold{\\hat{\\theta}}\\over2}) + \\bold{\\hat{s}} \\sin({\\bold{\\hat{\\theta}}\\over2}) $, prove that $\\bold{\\hat{p}^t} = \\cos(t{\\bold{\\hat{\\theta}}\\over2}) + \\bold{\\hat{s}} \\sin(t{\\bold{\\hat{\\theta}}\\over2}) $.\n",
    "\n",
    "$\\text{We start with: }\\bold{\\hat{p}} = \\cos({\\bold{\\hat{\\theta}}\\over2}) + \\hat{s} \\sin({\\bold{\\hat{\\theta}}\\over2}) $\n",
    "\n",
    "$\\Longleftrightarrow \\log(\\bold{\\hat{p}}) = \\log(\\cos({\\bold{\\hat{\\theta}}\\over2}) + \\hat{s} \\sin({\\bold{\\hat{\\theta}}\\over2})) $\n",
    "\n",
    "$\\Longleftrightarrow \\log(\\bold{\\hat{p}}) = \\bold{\\hat{s}} {\\bold{\\hat{\\theta}}\\over2} \\space(\\text{Using property:} \\log(\\cos({\\bold{\\hat{\\theta}}\\over2}) + \\hat{s} \\sin({\\bold{\\hat{\\theta}}\\over2})) = \\bold{\\hat{s}} {\\bold{\\hat{\\theta}}\\over2} )$\n",
    "\n",
    "$\\Longleftrightarrow t\\log(\\bold{\\hat{p}}) = t\\,\\bold{\\hat{s}} {\\bold{\\hat{\\theta}}\\over2} = \\bold{\\hat{s}} {t\\bold{\\hat{\\theta}}\\over2}$\n",
    "\n",
    "$ \\text{Using the property of the exponential representation of a dual quaternion, we have: } e ^{t\\log(\\bold{\\hat{p}})} = \\cos(||t\\log(\\bold{\\hat{p}})||) + {t\\log(\\bold{\\hat{p}}) \\over ||t\\log(\\bold{\\hat{p}})||} \\sin(||t\\log(\\bold{\\hat{p}})||).$\n",
    "\n",
    "$\\text{Assuming }\\bold{\\hat{p}}\\text{ unit dual quaternion and t positive, we notice: } ||t\\log(\\bold{\\hat{p}})|| = ||\\bold{\\hat{s}} {t\\bold{\\hat{\\theta}}\\over2}|| = {|t\\bold{\\hat{\\theta}}|\\over2} = {t\\bold{\\hat{\\theta}}\\over2}. $\n",
    "\n",
    "$\\Longrightarrow e ^{t\\log(\\bold{\\hat{p}})} = \\cos({t\\bold{\\hat{\\theta}}\\over2}) + {\\bold{\\hat{s}} {t\\bold{\\hat{\\theta}}\\over2} \\over {t\\bold{\\hat{\\theta}}\\over2}} \\sin({t\\bold{\\hat{\\theta}}\\over2}) = \\cos({t\\bold{\\hat{\\theta}}\\over2}) + \\bold{\\hat{s}} \\sin({t\\bold{\\hat{\\theta}}\\over2})$\n",
    "\n",
    "$\\text{Using the property } \\bold{\\hat{p}^t} = e ^{t\\log(\\bold{\\hat{p}})} \\text{ we end the proof:} $\n",
    "\n",
    "$\\Longleftrightarrow \\bold{\\hat{p}^t} = \\cos({t\\bold{\\hat{\\theta}}\\over2}) + {\\bold{\\hat{s}} {t\\bold{\\hat{\\theta}}\\over2} \\over {t\\bold{\\hat{\\theta}}\\over2}} \\sin({t\\bold{\\hat{\\theta}}\\over2}) = \\cos({t\\bold{\\hat{\\theta}}\\over2}) + \\bold{\\hat{s}} \\sin({t\\bold{\\hat{\\theta}}\\over2})$\n",
    "\n",
    "#### Question 4: Consider rigid transformations in the 2D xy-plane, how can a dual quaternion represent a rotation and translation in the xy-plane?\n",
    "\n",
    "A dual quaternion can represent a rotation and translation in the xy-plane by utilizing the real part to encode the rotation angle around the z-axis and the dual part to represent the translation components in the xy-plane.\n"
   ]
  }
 ],
 "metadata": {
  "language_info": {
   "name": "python"
  },
  "orig_nbformat": 4
 },
 "nbformat": 4,
 "nbformat_minor": 2
}
