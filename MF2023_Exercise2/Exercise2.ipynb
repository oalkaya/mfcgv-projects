{
 "cells": [
  {
   "cell_type": "markdown",
   "id": "e440e3e9",
   "metadata": {},
   "source": [
    "## Mathematical Foundations of Computer Graphics and Vision 2023\n",
    "## Exercise 2 - Global Optimization"
   ]
  },
  {
   "cell_type": "markdown",
   "id": "4e6075f5",
   "metadata": {},
   "source": [
    "In this exercise you will apply what you learned about global optimization, especially branch and bound (B&B), concave and convex envelopes, and reformulation. You will implement branch and bound for consensus set maximization."
   ]
  },
  {
   "cell_type": "markdown",
   "id": "1508f1ae",
   "metadata": {},
   "source": [
    "<b style=\"color:red\"> TODO A: </b>:  Derivation of the problem formulation in the canonical form of Linear Programming. Please explain all your steps clearly. You may use the hints and notation from section 2 of the excercise sheet."
   ]
  },
  {
   "attachments": {},
   "cell_type": "markdown",
   "id": "d0d5f761",
   "metadata": {},
   "source": [
    "Starting with equations $(5a)$, $(5b)$, $(5c)$ from *Exercise2.pdf*. $\\\\$\n",
    "$(5a)   \\max\\limits_{\\Theta, S_I}\\quad card(S_I) \\\\$\n",
    "$(5b)   \\ s.t. \\quad | x_i + T_x - x'_i | \\leq \\delta, \\forall i \\in S_I \\subseteq S \\\\$\n",
    "$(5c)   \\hspace{26pt} | y_i + T_y - y'_i | \\leq \\delta, \\forall i \\in S_I \\subseteq S \\\\~\\\\$\n",
    "\n",
    "We convert to the alternative formulation shown in Lecture Slides 3, Slide 45, by multiplying both sides of the inequalities $(5b)$ and $(5c)$ with $z_i$ and rewriting cardinality as a sum of $z_i$. $\\\\$\n",
    "$ z_i = \\begin{cases} 1 &\\text{if } i^{th} &\\text{data point is an inlier} \\\\ 0 &\\text {else } \\end{cases} \\\\~\\\\$\n",
    "$ \\max\\limits_{\\textbf{z}, \\Theta}\\quad \\sum\\limits_{i = 1}^N(z_i)\\\\$\n",
    "$ \\ s.t. \\quad z_i| x_i + T_x - x'_i | = | z_i x_i + z_i T_x - z_i x'_i | \\leq z_i\\delta, \\forall i \\in 1..N \\\\$\n",
    "$ \\hspace{26pt} z_i| y_i + T_y - y'_i | = | z_i y_i + z_i T_y - z_i y'_i |\\leq z_i\\delta, \\forall i \\in 1..N \\\\$\n",
    "$ \\hspace{26pt} z_i \\in \\{0,1\\}, \\forall i \\in 1..N \\\\~\\\\$ \n",
    "\n",
    "To avoid bilinearity, we add the auxiliary variables $w_{ix} = z_i T_x$ and $w_{iy} = z_i T_y$. We also relax $z_i \\in \\{0,1\\}$ to $z_i \\in [0,1]. \\\\$\n",
    "$(6a) \\max\\limits_{\\textbf{z}, \\Theta}\\quad \\sum\\limits_{i = 1}^N(z_i)\\\\ $\n",
    "$(6b) \\ s.t. \\quad | z_i x_i + w_{ix} - z_i x'_i | \\leq z_i\\delta, \\forall i \\in 1..N \\\\$\n",
    "$(6c) \\hspace{26pt} | z_i y_i + w_{iy} - z_i y'_i | \\leq z_i\\delta, \\forall i \\in 1..N \\\\$\n",
    "$     \\hspace{46pt} z_i \\in [0,1], \\forall i \\in 1..N \\\\~\\\\$\n",
    "\n",
    "\n",
    "Bilinear equality $\\gamma = \\alpha \\beta$ with bounding-boxes $\\alpha \\in [\\underline{\\alpha}, \\overline{\\alpha}]$ and $\\beta \\in [\\underline{\\beta}, \\overline{\\beta}]$ is relaxed with the following envelopes: $\\\\$\n",
    "$\\gamma \\geq \\max(\\underline{\\alpha}\\beta + \\underline{\\beta}\\alpha - \\underline{\\alpha}\\underline{\\beta}, \\overline{\\alpha}\\beta + \\overline{\\beta}\\alpha - \\overline{\\alpha}\\overline{\\beta}) \\\\$\n",
    "$\\gamma \\leq \\min(\\overline{\\alpha}\\beta + \\underline{\\beta}\\alpha - \\overline{\\alpha}\\underline{\\beta}, \\underline{\\alpha}\\beta + \\overline{\\beta}\\alpha - \\underline{\\alpha}\\overline{\\beta}) \\\\$\n",
    "*(taken from Lecture Slides 3, Slide 50)* $\\\\~\\\\$\n",
    "\n",
    "We know that $z_i \\in [0,1]$. We additionally define the bounds for $T_x \\in [\\underline{T_x}, \\overline{T_x}]$ and $T_y \\in [\\underline{T_y}, \\overline{T_y}]$. The relaxation for the bilinear equality $w_{ix} = z_i T_x$ shown. The relaxation for $w_{iy} = z_i T_y$ is analogous. $\\\\$\n",
    "$w_{ix} \\geq \\max (0 \\cdot T_x + \\underline{T_x} \\cdot z_i - 0 \\cdot \\underline{T_x}, 1 \\cdot T_x + \\overline{T_x} \\cdot z_i - 1 \\cdot \\overline{T_x}) = \\max (\\underline{T_x} \\cdot z_i, T_x + \\overline{T_x} \\cdot z_i - \\overline{T_x}) \\\\$\n",
    "\n",
    "$w_{ix} \\leq \\min (1 \\cdot T_x + \\underline{T_x} \\cdot z_i - 1 \\cdot \\underline{T_x}, 0 \\cdot T_x + \\overline{T_x} \\cdot z_i - 0 \\cdot \\overline{T_x}) = \\min(T_x + \\underline{T_x} \\cdot z_i - \\underline{T_x}, \\overline{T_x} \\cdot z_i) \\\\$\n",
    "\n",
    "\n",
    "$w_{ix} \\geq \\max (\\underline{T_x} \\cdot z_i, T_x + \\overline{T_x} \\cdot z_i - \\overline{T_x}) \\rArr \\begin{cases} w_{ix} \\geq \\underline{T_x} \\cdot z_i \\hspace{75pt} (7a) \\\\  w_{ix} \\geq T_x + \\overline{T_x} \\cdot z_i - \\overline{T_x} \\hspace{30pt} (7b) \\end{cases} \\\\$\n",
    "\n",
    "$w_{ix} \\leq \\min(T_x + \\underline{T_x} \\cdot z_i - \\underline{T_x}, \\overline{T_x} \\cdot z_i) \\rArr \\begin{cases} w_{ix} \\leq T_x + \\underline{T_x} \\cdot z_i - \\underline{T_x} \\hspace{32pt} (7c) \\\\ w_{ix} \\leq \\overline{T_x} \\cdot z_i \\hspace{77pt} (7d) \\end{cases} \\\\~\\\\$\n",
    "\n",
    "The equations $(6a)$, $(6b)$, $(6c)$, $(7a)$, $(7b)$, $(7c)$, $(7d)$ and the equations for the relaxation of the bilinear equality, give us the linear inequality constraints. Additionally we should not forget about the bounds of $z_i$, $T_x$, $T_y$. $\\\\$\n",
    "\n",
    "\n",
    "$ \\max\\limits_{\\textbf{z}, \\Theta}\\quad \\sum\\limits_{i = 1}^N(z_i)\\\\[4pt]$\n",
    "$ \\ s.t. \\quad | z_i x_i + w_{ix} - z_i x'_i | \\leq z_i\\delta \\\\[4pt]$\n",
    "$ \\hspace{26pt} | z_i y_i + w_{iy} - z_i y'_i | \\leq z_i\\delta \\\\[4pt]$\n",
    "$ \\hspace{28pt} w_{ix} \\geq \\underline{T_x} \\cdot z_i \\\\[4pt]$\n",
    "$ \\hspace{28pt} w_{ix} \\geq T_x + \\overline{T_x} \\cdot z_i - \\overline{T_x} \\\\[4pt]$\n",
    "$ \\hspace{28pt} w_{ix} \\leq T_x + \\underline{T_x} \\cdot z_i - \\underline{T_x} \\\\[4pt]$\n",
    "$ \\hspace{28pt} w_{ix} \\leq \\overline{T_x} \\cdot z_i \\\\[4pt]$\n",
    "$ \\hspace{28pt} w_{iy} \\geq \\underline{T_y} \\cdot z_i \\\\[4pt]$\n",
    "$ \\hspace{28pt} w_{iy} \\geq T_y + \\overline{T_y} \\cdot z_i - \\overline{T_y} \\\\[4pt]$\n",
    "$ \\hspace{28pt} w_{iy} \\leq T_y + \\underline{T_y} \\cdot z_i - \\underline{T_y} \\\\[4pt]$\n",
    "$ \\hspace{28pt} w_{iy} \\leq \\overline{T_y} \\cdot z_i \\\\[4pt]$\n",
    "$ \\hspace{28pt} z_i \\in [0,1], \\forall i \\in 1..N \\\\[4pt]$\n",
    "$ \\hspace{28pt} T_x \\in [\\underline{T_x}, \\overline{T_x}] \\\\[4pt]$\n",
    "$ \\hspace{28pt} T_y \\in [\\underline{T_y}, \\overline{T_y}] \\\\~\\\\$\n",
    "\n",
    "Reformulate the constraints, getting rid of the absolute terms: $|a| \\leq b \\rArr a \\leq b$ and $-a \\leq b$ $\\\\$\n",
    "$ \\max\\limits_{\\textbf{z}, \\Theta}\\quad \\sum\\limits_{i = 1}^N(z_i)\\\\[4pt]$\n",
    "$ \\ s.t. \\quad   z_i x_i + w_{ix} - z_i x'_i  \\leq z_i\\delta \\\\[4pt]$\n",
    "$ \\hspace{26pt} -(z_i x_i + w_{ix} - z_i x'_i) \\leq z_i\\delta \\\\[4pt]$\n",
    "$ \\hspace{26pt}  z_i y_i + w_{iy} - z_i y'_i  \\leq z_i\\delta \\\\[4pt]$\n",
    "$ \\hspace{26pt} -(z_i y_i + w_{iy} - z_i y'_i) \\leq z_i\\delta \\\\[4pt]$\n",
    "$ \\hspace{28pt} w_{ix} \\geq \\underline{T_x} \\cdot z_i \\\\[4pt]$\n",
    "$ \\hspace{28pt} w_{ix} \\geq T_x + \\overline{T_x} \\cdot z_i - \\overline{T_x} \\\\[4pt]$\n",
    "$ \\hspace{28pt} w_{ix} \\leq T_x + \\underline{T_x} \\cdot z_i - \\underline{T_x} \\\\[4pt]$\n",
    "$ \\hspace{28pt} w_{ix} \\leq \\overline{T_x} \\cdot z_i \\\\[4pt]$\n",
    "$ \\hspace{28pt} w_{iy} \\geq \\underline{T_y} \\cdot z_i \\\\[4pt]$\n",
    "$ \\hspace{28pt} w_{iy} \\geq T_y + \\overline{T_y} \\cdot z_i - \\overline{T_y} \\\\[4pt]$\n",
    "$ \\hspace{28pt} w_{iy} \\leq T_y + \\underline{T_y} \\cdot z_i - \\underline{T_y} \\\\[4pt]$\n",
    "$ \\hspace{28pt} w_{iy} \\leq \\overline{T_y} \\cdot z_i \\\\[4pt]$\n",
    "$ \\hspace{28pt} z_i \\in [0,1], \\forall i \\in 1..N \\\\[4pt]$\n",
    "$ \\hspace{28pt} T_x \\in [\\underline{T_x}, \\overline{T_x}] \\\\[4pt]$\n",
    "$ \\hspace{28pt} T_y \\in [\\underline{T_y}, \\overline{T_y}] \\\\~\\\\$\n",
    "\n",
    "Finally we write down the final linear constraints in canonical form (in Python for *linprog*): $\\\\$\n",
    "$ \\max\\limits_{\\textbf{z}, \\Theta}\\quad \\sum\\limits_{i = 1}^N(z_i)\\\\[4pt]$\n",
    "$ \\ s.t. \\quad   (x_i - x'_i - \\delta) z_i + w_{ix} \\leq 0 \\\\[4pt]$\n",
    "$ \\hspace{26pt}  (x'_i - x_i - \\delta) z_i - w_{ix} \\leq 0 \\\\[4pt]$\n",
    "$ \\hspace{26pt}  (y_i - y'_i - \\delta) z_i + w_{iy} \\leq 0 \\\\[4pt]$\n",
    "$ \\hspace{26pt}  (y'_i - y_i - \\delta) z_i - w_{iy} \\leq 0 \\\\[4pt]$\n",
    "$ \\hspace{28pt}  \\underline{T_x} \\cdot z_i - w_{ix} \\leq 0 \\\\[4pt]$\n",
    "$ \\hspace{28pt}  T_x + \\overline{T_x} \\cdot z_i - w_{ix} \\leq \\overline{T_x} \\\\[4pt]$\n",
    "$ \\hspace{28pt}  -T_x - \\underline{T_x} \\cdot z_i + w_{ix} \\leq \\underline{T_x} \\\\[4pt]$\n",
    "$ \\hspace{28pt}  -\\overline{T_x} \\cdot z_i + w_{ix} \\leq 0 \\\\[4pt]$\n",
    "$ \\hspace{28pt}  \\underline{T_y} \\cdot z_i - w_{iy} \\leq 0 \\\\[4pt]$\n",
    "$ \\hspace{28pt}  T_y + \\overline{T_y} \\cdot z_i - w_{iy} \\leq \\overline{T_y} \\\\[4pt]$\n",
    "$ \\hspace{28pt}  -T_y - \\underline{T_y} \\cdot z_i + w_{iy} \\leq \\underline{T_y} \\\\[4pt]$\n",
    "$ \\hspace{28pt}  -\\overline{T_y} \\cdot z_i + w_{iy} \\leq 0 \\\\[4pt]$\n",
    "$ \\hspace{28pt} z_i \\in [0,1], \\forall i \\in 1..N \\\\[4pt]$\n",
    "$ \\hspace{28pt} T_x \\in [\\underline{T_x}, \\overline{T_x}] \\\\[4pt]$\n",
    "$ \\hspace{28pt} T_y \\in [\\underline{T_y}, \\overline{T_y}] \\\\~\\\\$\n",
    "\n",
    "\n",
    "\n",
    "\n",
    "\n",
    "\n",
    "\n",
    "\n"
   ]
  },
  {
   "cell_type": "markdown",
   "id": "00de26f3",
   "metadata": {},
   "source": [
    "#### Branch and Bound Implementation for the Consensus Set Maximization Problem"
   ]
  },
  {
   "cell_type": "markdown",
   "id": "40aa4b72",
   "metadata": {},
   "source": [
    "<b style=\"color:red\"> TODO B: </b>In the following code you are supposed to implement consensus set maximization by branch and bound in the context of stereo matching where the model is a 2D translation between two input images. Please use the imports listed in the cell down. You may also add more imports for example for visualization purposes if you find them useful.\n"
   ]
  },
  {
   "cell_type": "code",
   "execution_count": null,
   "id": "07b3dfd6",
   "metadata": {},
   "outputs": [],
   "source": [
    "%matplotlib inline\n",
    "import math\n",
    "import heapq\n",
    "from typing import Tuple, List, Optional\n",
    "from collections import namedtuple\n",
    "import os\n",
    "\n",
    "import numpy as np\n",
    "from scipy.io import loadmat\n",
    "from scipy.optimize import linprog\n",
    "import matplotlib.pyplot as plt\n",
    "from matplotlib.ticker import MultipleLocator\n",
    "\n",
    "\n",
    "# Translation Theta\n",
    "T = namedtuple(\"T\", [\"x\", \"y\"])"
   ]
  },
  {
   "cell_type": "markdown",
   "id": "ab36ba04",
   "metadata": {},
   "source": [
    "We provide you some skeleton code that you are free to use as it is or where you can also add/ delete parameters.\n",
    "You may also write auxiliary functions if you feel the need to do so."
   ]
  },
  {
   "cell_type": "code",
   "execution_count": null,
   "id": "ed51b66b",
   "metadata": {},
   "outputs": [],
   "source": [
    "# Load input points, input image and fix delta parameter\n",
    "corr = loadmat('data/ListInputPoints')['ListInputPoints'] # correspondences (nx4 array) [x_i,y_i,x_i',y_i']\n",
    "N = corr.shape[0]  # number of total points\n",
    "\n",
    "left_image = plt.imread('data/InputLeftImage.png')\n",
    "right_image = plt.imread('data/InputRightImage.png')\n",
    "image_size = left_image.shape\n",
    "\n",
    "delta = 3  # inlier threshold [pixels]"
   ]
  },
  {
   "cell_type": "code",
   "execution_count": null,
   "id": "5da5bafe",
   "metadata": {},
   "outputs": [],
   "source": [
    "def plot_matches(inliers: List, outliers: List):\n",
    "    fig, ax = plt.subplots(1, figsize=(17, 7))\n",
    "    \n",
    "    gap = np.zeros_like(left_image[:, :20])\n",
    "    stitched = np.concatenate((left_image, gap, right_image), 1)\n",
    "    ax.imshow(stitched)\n",
    "    \n",
    "    offset = left_image.shape[1] + gap.shape[1]\n",
    "\n",
    "    for idx, line in enumerate(corr):\n",
    "        x1, y1, x2, y2 = line\n",
    "        if idx in inliers:\n",
    "            color = \"lime\"\n",
    "        elif idx in outliers:\n",
    "            color = \"crimson\"\n",
    "        else:\n",
    "            color = \"blue\"\n",
    "        \n",
    "        ax.plot([x1, offset + x2], [y1, y2], \".-\", color=color, linewidth=0.8)\n",
    "\n",
    "    ax.axis('off')\n",
    "    plt.show(fig)\n",
    "    plt.close(fig)\n",
    "\n",
    "\n",
    "plot_matches(inliers=[], outliers=[])"
   ]
  },
  {
   "cell_type": "markdown",
   "id": "bac7d279",
   "metadata": {},
   "source": [
    "To help with implementing and debugging BnB, we provide a naive estimation of the inlier upper bound within box constraints of $[\\underline{T_x}, \\overline{T_x}]\\times[\\underline{T_y}, \\overline{T_y}]$."
   ]
  },
  {
   "cell_type": "code",
   "execution_count": null,
   "id": "f9656efc",
   "metadata": {},
   "outputs": [],
   "source": [
    "def naive_upper_bound(theta_lower: T, theta_upper: T) -> Tuple[T, int]:\n",
    "    \"\"\"\n",
    "    Naive estimation of the upper bound on objective\n",
    "    Calculates number of inliers in region [Tx_lb, Tx_ub]x[Ty_lb, Ty_ub]\n",
    "\n",
    "    Parameters:\n",
    "    - theta_lower, theta_upper: Lower and upper bounds for T\n",
    "\n",
    "    Returns:\n",
    "    - Tuple (translation, objcost) representing the estimated upper bound on the model and the objective\n",
    "    \"\"\"\n",
    "\n",
    "    x1, y1, x2, y2 = corr.T\n",
    "    \n",
    "    T_x = x2 - x1\n",
    "    T_y = y2 - y1\n",
    "    \n",
    "    inliers = (((T_x + delta) >= theta_lower.x) *\n",
    "               ((T_y + delta) >= theta_lower.y) *\n",
    "               ((T_x - delta) <= theta_upper.x) *\n",
    "               ((T_y - delta) <= theta_upper.y))\n",
    "    \n",
    "    #Set center of region as new model\n",
    "    theta = T(0.5 * (theta_lower.x + theta_upper.x), 0.5 * (theta_lower.y + theta_upper.y))\n",
    "\n",
    "    return theta, np.sum(inliers)\n"
   ]
  },
  {
   "cell_type": "code",
   "execution_count": null,
   "id": "73d71525",
   "metadata": {},
   "outputs": [],
   "source": [
    "def solve_relaxed_LP(theta_lower: T, theta_upper: T) -> Tuple[T, int]:\n",
    "    \"\"\"\n",
    "    Parameters:\n",
    "    - theta_lower, theta_upper: Lower and upper bounds for T\n",
    "    \n",
    "    Returns:\n",
    "    -  Tuple that contains the solution (T, objcost) of the relaxed LP\n",
    "    \"\"\"\n",
    "    \n",
    "    #TODO: Implement relaxed LP\n",
    "    theta = T(0, 0)\n",
    "    num_inliers = 0\n",
    "    \n",
    "    return theta, num_inliers\n"
   ]
  },
  {
   "cell_type": "code",
   "execution_count": null,
   "id": "945e446a",
   "metadata": {},
   "outputs": [],
   "source": [
    "def is_inlier(theta: T) -> np.ndarray:\n",
    "    \"\"\"\n",
    "    Parameters:\n",
    "    - theta - model that's being tested\n",
    "    \n",
    "    Returns:\n",
    "    - bool vector f size N, where i-th element indicates if i-th point of `corr` is an inlier\n",
    "    \"\"\"\n",
    "\n",
    "    #TODO: Compute if i-th element is an inliers\n",
    "    inliers = ...\n",
    "    \n",
    "    return inliers\n"
   ]
  },
  {
   "cell_type": "code",
   "execution_count": null,
   "id": "77d2b0d9",
   "metadata": {},
   "outputs": [],
   "source": [
    "def consensus_set_maximization_by_bnb(image_size: Tuple[int, int], upper_bound_fn) -> Tuple[T, List[int], List[int]]:\n",
    "    \"\"\"\n",
    "    Parameters:\n",
    "    - image_size - tuple of image size (H, W)\n",
    "\n",
    "    Returns a tuple of\n",
    "    - Best model according to the BnB algorithm\n",
    "    - list of upper bounds for each iteration\n",
    "    - list of lower bounds for each iteration\n",
    "    \"\"\"\n",
    "    \n",
    "    h, w, _ = image_size\n",
    "\n",
    "    best_model = T(0, 0)\n",
    "    upper_bounds = []\n",
    "    lower_bounds = []\n",
    "\n",
    "    #TODO: Implement BnB\n",
    "\n",
    "    return best_model, lower_bounds, upper_bounds\n"
   ]
  },
  {
   "cell_type": "code",
   "execution_count": null,
   "id": "3d908fae",
   "metadata": {},
   "outputs": [],
   "source": [
    "def plot_bound_convergence(lower_bounds: List[int], upper_bounds: List[int]):\n",
    "    fig, ax = plt.subplots(1, figsize=(17, 7))\n",
    "    \n",
    "    iterations = np.arange(len(lower_bounds)) + 1\n",
    "    \n",
    "    # Draw lines\n",
    "    ax.plot(iterations, lower_bounds, marker=\"o\", color=\"r\")\n",
    "    ax.plot(iterations, upper_bounds, marker=\"o\", color=\"b\")\n",
    "    \n",
    "    # Write titles\n",
    "    ax.set_title(\"Convergence of Bounds\")\n",
    "    ax.set_xlabel(\"Iterations\")\n",
    "    ax.set_ylabel(\"Upper and Lower Bounds\")\n",
    "    ax.legend([\"Lower Bound\", \"Upper Bound\"], loc=\"upper right\")\n",
    "    ax.xaxis.set_major_locator(MultipleLocator(1 if len(lower_bounds) < 20 else 5))\n",
    "    ax.yaxis.set_major_locator(MultipleLocator(5))\n",
    "    ax.grid(True)\n",
    "\n",
    "    plt.show(fig)\n",
    "    plt.close(fig)\n"
   ]
  },
  {
   "cell_type": "code",
   "execution_count": null,
   "id": "ab2fe69b",
   "metadata": {},
   "outputs": [],
   "source": [
    "def perform_bnb(upper_bound_fn):\n",
    "    \n",
    "    #perform consensus set maximization\n",
    "    best_model, lower_bounds, upper_bounds = consensus_set_maximization_by_bnb(image_size, upper_bound_fn)\n",
    "    \n",
    "    inliers = is_inlier(best_model)\n",
    "    \n",
    "    inliers_indices = np.where(inliers)[0]\n",
    "    outliers_indices = np.where(~inliers)[0]\n",
    "    \n",
    "    print(f\"Global optimal translational model (Tx, Ty) = {best_model}\")\n",
    "    print(f\"Inlier set S_I: {inliers_indices} ({len(inliers_indices)} points)\")\n",
    "    print(f\"Outlier indices S_O = S\\S_I: {outliers_indices}\")\n",
    "    \n",
    "    plot_matches(inliers_indices, outliers_indices)\n",
    "    \n",
    "    plot_bound_convergence(lower_bounds, upper_bounds)\n"
   ]
  },
  {
   "cell_type": "markdown",
   "id": "653353b5",
   "metadata": {},
   "source": [
    "#### Results"
   ]
  },
  {
   "cell_type": "markdown",
   "id": "dfe4f0ad",
   "metadata": {},
   "source": [
    "<b style=\"color:red\"> TODO C-E: </b> Present and discuss your results. Also plot the figures described in the deliverables D and E."
   ]
  },
  {
   "cell_type": "code",
   "execution_count": null,
   "id": "bbeacb71",
   "metadata": {},
   "outputs": [],
   "source": [
    "# Display results with the naive upper bound\n",
    "perform_bnb(naive_upper_bound)"
   ]
  },
  {
   "cell_type": "code",
   "execution_count": null,
   "id": "325769d2",
   "metadata": {},
   "outputs": [],
   "source": [
    "# Display results with the LP upper bound\n",
    "perform_bnb(solve_relaxed_LP)"
   ]
  },
  {
   "cell_type": "markdown",
   "id": "173d9ea4",
   "metadata": {},
   "source": [
    "<b style=\"color:red\"> Discussion (not graded): </b> In the previous exercise, you implemented RANSAC to fit polynomials. Now, can you use RANSAC to solve the consensus set maximization problem for stereo matching? If so, please briefly describe the main steps you would take to implement RANSAC for this task, and compare it with the BnB approach. Additionally, can you identify scenarios where one approach may be more effective than the other? If not, explain why it is not feasible to adapt RANSAC for this application. Can you also combine RANSAC and BnB in one pipeline?"
   ]
  },
  {
   "cell_type": "markdown",
   "id": "4b7f5c58",
   "metadata": {},
   "source": [
    "_TODO_: Your answer here"
   ]
  }
 ],
 "metadata": {
  "kernelspec": {
   "display_name": "Python 3 (ipykernel)",
   "language": "python",
   "name": "python3"
  },
  "language_info": {
   "codemirror_mode": {
    "name": "ipython",
    "version": 3
   },
   "file_extension": ".py",
   "mimetype": "text/x-python",
   "name": "python",
   "nbconvert_exporter": "python",
   "pygments_lexer": "ipython3",
   "version": "3.8.13"
  },
  "vscode": {
   "interpreter": {
    "hash": "59aa2f127bdfe73a1321f97fdd97d68dad4f976e92208b7b8d0dfdac6be9932e"
   }
  }
 },
 "nbformat": 4,
 "nbformat_minor": 5
}
