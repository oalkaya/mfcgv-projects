{
 "cells": [
  {
   "cell_type": "markdown",
   "id": "e440e3e9",
   "metadata": {},
   "source": [
    "## Mathematical Foundations of Computer Graphics and Vision 2023\n",
    "## Exercise 2 - Global Optimization"
   ]
  },
  {
   "cell_type": "markdown",
   "id": "4e6075f5",
   "metadata": {},
   "source": [
    "In this exercise you will apply what you learned about global optimization, especially branch and bound (B&B), concave and convex envelopes, and reformulation. You will implement branch and bound for consensus set maximization."
   ]
  },
  {
   "cell_type": "markdown",
   "id": "1508f1ae",
   "metadata": {},
   "source": [
    "<b style=\"color:red\"> TODO A: </b>:  Derivation of the problem formulation in the canonical form of Linear Programming. Please explain all your steps clearly. You may use the hints and notation from section 2 of the excercise sheet."
   ]
  },
  {
   "cell_type": "markdown",
   "id": "d0d5f761",
   "metadata": {},
   "source": [
    "Your answer here (Type *Markdown* and LaTeX: $\\alpha^2$)"
   ]
  },
  {
   "cell_type": "markdown",
   "id": "00de26f3",
   "metadata": {},
   "source": [
    "#### Branch and Bound Implementation for the Consensus Set Maximization Problem"
   ]
  },
  {
   "cell_type": "markdown",
   "id": "40aa4b72",
   "metadata": {},
   "source": [
    "<b style=\"color:red\"> TODO B: </b>In the following code you are supposed to implement consensus set maximization by branch and bound in the context of stereo matching where the model is a 2D translation between two input images. Please use the imports listed in the cell down. You may also add more imports for example for visualization purposes if you find them useful.\n"
   ]
  },
  {
   "cell_type": "code",
   "execution_count": null,
   "id": "07b3dfd6",
   "metadata": {},
   "outputs": [],
   "source": [
    "%matplotlib inline\n",
    "import math\n",
    "import heapq\n",
    "from typing import Tuple, List, Optional\n",
    "from collections import namedtuple\n",
    "import os\n",
    "\n",
    "import numpy as np\n",
    "from scipy.io import loadmat\n",
    "from scipy.optimize import linprog\n",
    "import matplotlib.pyplot as plt\n",
    "from matplotlib.ticker import MultipleLocator\n",
    "\n",
    "\n",
    "# Translation Theta\n",
    "T = namedtuple(\"T\", [\"x\", \"y\"])"
   ]
  },
  {
   "cell_type": "markdown",
   "id": "ab36ba04",
   "metadata": {},
   "source": [
    "We provide you some skeleton code that you are free to use as it is or where you can also add/ delete parameters.\n",
    "You may also write auxiliary functions if you feel the need to do so."
   ]
  },
  {
   "cell_type": "code",
   "execution_count": null,
   "id": "ed51b66b",
   "metadata": {},
   "outputs": [],
   "source": [
    "# Load input points, input image and fix delta parameter\n",
    "corr = loadmat('data/ListInputPoints')['ListInputPoints'] # correspondences (nx4 array) [x_i,y_i,x_i',y_i']\n",
    "N = corr.shape[0]  # number of total points\n",
    "\n",
    "left_image = plt.imread('data/InputLeftImage.png')\n",
    "right_image = plt.imread('data/InputRightImage.png')\n",
    "image_size = left_image.shape\n",
    "\n",
    "delta = 3  # inlier threshold [pixels]"
   ]
  },
  {
   "cell_type": "code",
   "execution_count": null,
   "id": "5da5bafe",
   "metadata": {},
   "outputs": [],
   "source": [
    "def plot_matches(inliers: List, outliers: List):\n",
    "    fig, ax = plt.subplots(1, figsize=(17, 7))\n",
    "    \n",
    "    gap = np.zeros_like(left_image[:, :20])\n",
    "    stitched = np.concatenate((left_image, gap, right_image), 1)\n",
    "    ax.imshow(stitched)\n",
    "    \n",
    "    offset = left_image.shape[1] + gap.shape[1]\n",
    "\n",
    "    for idx, line in enumerate(corr):\n",
    "        x1, y1, x2, y2 = line\n",
    "        if idx in inliers:\n",
    "            color = \"lime\"\n",
    "        elif idx in outliers:\n",
    "            color = \"crimson\"\n",
    "        else:\n",
    "            color = \"blue\"\n",
    "        \n",
    "        ax.plot([x1, offset + x2], [y1, y2], \".-\", color=color, linewidth=0.8)\n",
    "\n",
    "    ax.axis('off')\n",
    "    plt.show(fig)\n",
    "    plt.close(fig)\n",
    "\n",
    "\n",
    "plot_matches(inliers=[], outliers=[])"
   ]
  },
  {
   "cell_type": "markdown",
   "id": "bac7d279",
   "metadata": {},
   "source": [
    "To help with implementing and debugging BnB, we provide a naive estimation of the inlier upper bound within box constraints of $[\\underline{T_x}, \\overline{T_x}]\\times[\\underline{T_y}, \\overline{T_y}]$."
   ]
  },
  {
   "cell_type": "code",
   "execution_count": null,
   "id": "f9656efc",
   "metadata": {},
   "outputs": [],
   "source": [
    "def naive_upper_bound(theta_lower: T, theta_upper: T) -> Tuple[T, int]:\n",
    "    \"\"\"\n",
    "    Naive estimation of the upper bound on objective\n",
    "    Calculates number of inliers in region [Tx_lb, Tx_ub]x[Ty_lb, Ty_ub]\n",
    "\n",
    "    Parameters:\n",
    "    - theta_lower, theta_upper: Lower and upper bounds for T\n",
    "\n",
    "    Returns:\n",
    "    - Tuple (translation, objcost) representing the estimated upper bound on the model and the objective\n",
    "    \"\"\"\n",
    "\n",
    "    x1, y1, x2, y2 = corr.T\n",
    "    \n",
    "    T_x = x2 - x1\n",
    "    T_y = y2 - y1\n",
    "    \n",
    "    inliers = (((T_x + delta) >= theta_lower.x) *\n",
    "               ((T_y + delta) >= theta_lower.y) *\n",
    "               ((T_x - delta) <= theta_upper.x) *\n",
    "               ((T_y - delta) <= theta_upper.y))\n",
    "    \n",
    "    #Set center of region as new model\n",
    "    theta = T(0.5 * (theta_lower.x + theta_upper.x), 0.5 * (theta_lower.y + theta_upper.y))\n",
    "\n",
    "    return theta, np.sum(inliers)\n"
   ]
  },
  {
   "cell_type": "code",
   "execution_count": null,
   "id": "73d71525",
   "metadata": {},
   "outputs": [],
   "source": [
    "def solve_relaxed_LP(theta_lower: T, theta_upper: T) -> Tuple[T, int]:\n",
    "    \"\"\"\n",
    "    Parameters:\n",
    "    - theta_lower, theta_upper: Lower and upper bounds for T\n",
    "    \n",
    "    Returns:\n",
    "    -  Tuple that contains the solution (T, objcost) of the relaxed LP\n",
    "    \"\"\"\n",
    "    \n",
    "    #TODO: Implement relaxed LP\n",
    "    theta = T(0, 0)\n",
    "    num_inliers = 0\n",
    "    \n",
    "    return theta, num_inliers\n"
   ]
  },
  {
   "cell_type": "code",
   "execution_count": null,
   "id": "945e446a",
   "metadata": {},
   "outputs": [],
   "source": [
    "def is_inlier(theta: T) -> np.ndarray:\n",
    "    \"\"\"\n",
    "    Parameters:\n",
    "    - theta - model that's being tested\n",
    "    \n",
    "    Returns:\n",
    "    - bool vector f size N, where i-th element indicates if i-th point of `corr` is an inlier\n",
    "    \"\"\"\n",
    "\n",
    "    #TODO: Compute if i-th element is an inliers\n",
    "    inliers = ...\n",
    "    \n",
    "    return inliers\n"
   ]
  },
  {
   "cell_type": "code",
   "execution_count": null,
   "id": "77d2b0d9",
   "metadata": {},
   "outputs": [],
   "source": [
    "def consensus_set_maximization_by_bnb(image_size: Tuple[int, int], upper_bound_fn) -> Tuple[T, List[int], List[int]]:\n",
    "    \"\"\"\n",
    "    Parameters:\n",
    "    - image_size - tuple of image size (H, W)\n",
    "\n",
    "    Returns a tuple of\n",
    "    - Best model according to the BnB algorithm\n",
    "    - list of upper bounds for each iteration\n",
    "    - list of lower bounds for each iteration\n",
    "    \"\"\"\n",
    "    \n",
    "    h, w, _ = image_size\n",
    "\n",
    "    best_model = T(0, 0)\n",
    "    upper_bounds = []\n",
    "    lower_bounds = []\n",
    "\n",
    "    #TODO: Implement BnB\n",
    "\n",
    "    return best_model, lower_bounds, upper_bounds\n"
   ]
  },
  {
   "cell_type": "code",
   "execution_count": null,
   "id": "3d908fae",
   "metadata": {},
   "outputs": [],
   "source": [
    "def plot_bound_convergence(lower_bounds: List[int], upper_bounds: List[int]):\n",
    "    fig, ax = plt.subplots(1, figsize=(17, 7))\n",
    "    \n",
    "    iterations = np.arange(len(lower_bounds)) + 1\n",
    "    \n",
    "    # Draw lines\n",
    "    ax.plot(iterations, lower_bounds, marker=\"o\", color=\"r\")\n",
    "    ax.plot(iterations, upper_bounds, marker=\"o\", color=\"b\")\n",
    "    \n",
    "    # Write titles\n",
    "    ax.set_title(\"Convergence of Bounds\")\n",
    "    ax.set_xlabel(\"Iterations\")\n",
    "    ax.set_ylabel(\"Upper and Lower Bounds\")\n",
    "    ax.legend([\"Lower Bound\", \"Upper Bound\"], loc=\"upper right\")\n",
    "    ax.xaxis.set_major_locator(MultipleLocator(1 if len(lower_bounds) < 20 else 5))\n",
    "    ax.yaxis.set_major_locator(MultipleLocator(5))\n",
    "    ax.grid(True)\n",
    "\n",
    "    plt.show(fig)\n",
    "    plt.close(fig)\n"
   ]
  },
  {
   "cell_type": "code",
   "execution_count": null,
   "id": "ab2fe69b",
   "metadata": {},
   "outputs": [],
   "source": [
    "def perform_bnb(upper_bound_fn):\n",
    "    \n",
    "    #perform consensus set maximization\n",
    "    best_model, lower_bounds, upper_bounds = consensus_set_maximization_by_bnb(image_size, upper_bound_fn)\n",
    "    \n",
    "    inliers = is_inlier(best_model)\n",
    "    \n",
    "    inliers_indices = np.where(inliers)[0]\n",
    "    outliers_indices = np.where(~inliers)[0]\n",
    "    \n",
    "    print(f\"Global optimal translational model (Tx, Ty) = {best_model}\")\n",
    "    print(f\"Inlier set S_I: {inliers_indices} ({len(inliers_indices)} points)\")\n",
    "    print(f\"Outlier indices S_O = S\\S_I: {outliers_indices}\")\n",
    "    \n",
    "    plot_matches(inliers_indices, outliers_indices)\n",
    "    \n",
    "    plot_bound_convergence(lower_bounds, upper_bounds)\n"
   ]
  },
  {
   "cell_type": "markdown",
   "id": "653353b5",
   "metadata": {},
   "source": [
    "#### Results"
   ]
  },
  {
   "cell_type": "markdown",
   "id": "dfe4f0ad",
   "metadata": {},
   "source": [
    "<b style=\"color:red\"> TODO C-E: </b> Present and discuss your results. Also plot the figures described in the deliverables D and E."
   ]
  },
  {
   "cell_type": "code",
   "execution_count": null,
   "id": "bbeacb71",
   "metadata": {},
   "outputs": [],
   "source": [
    "# Display results with the naive upper bound\n",
    "perform_bnb(naive_upper_bound)"
   ]
  },
  {
   "cell_type": "code",
   "execution_count": null,
   "id": "325769d2",
   "metadata": {},
   "outputs": [],
   "source": [
    "# Display results with the LP upper bound\n",
    "perform_bnb(solve_relaxed_LP)"
   ]
  },
  {
   "cell_type": "markdown",
   "id": "173d9ea4",
   "metadata": {},
   "source": [
    "<b style=\"color:red\"> Discussion (not graded): </b> In the previous exercise, you implemented RANSAC to fit polynomials. Now, can you use RANSAC to solve the consensus set maximization problem for stereo matching? If so, please briefly describe the main steps you would take to implement RANSAC for this task, and compare it with the BnB approach. Additionally, can you identify scenarios where one approach may be more effective than the other? If not, explain why it is not feasible to adapt RANSAC for this application. Can you also combine RANSAC and BnB in one pipeline?"
   ]
  },
  {
   "cell_type": "markdown",
   "id": "4b7f5c58",
   "metadata": {},
   "source": [
    "_TODO_: Your answer here"
   ]
  }
 ],
 "metadata": {
  "kernelspec": {
   "display_name": "Python 3 (ipykernel)",
   "language": "python",
   "name": "python3"
  },
  "language_info": {
   "codemirror_mode": {
    "name": "ipython",
    "version": 3
   },
   "file_extension": ".py",
   "mimetype": "text/x-python",
   "name": "python",
   "nbconvert_exporter": "python",
   "pygments_lexer": "ipython3",
   "version": "3.8.13"
  },
  "vscode": {
   "interpreter": {
    "hash": "59aa2f127bdfe73a1321f97fdd97d68dad4f976e92208b7b8d0dfdac6be9932e"
   }
  }
 },
 "nbformat": 4,
 "nbformat_minor": 5
}
